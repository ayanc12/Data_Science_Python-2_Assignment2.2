{
 "cells": [
  {
   "cell_type": "code",
   "execution_count": 33,
   "metadata": {},
   "outputs": [
    {
     "name": "stdout",
     "output_type": "stream",
     "text": [
      "*\n",
      "\n",
      "**\n",
      "\n",
      "***\n",
      "\n",
      "****\n",
      "\n",
      "*****\n",
      "\n",
      "****\n",
      "\n",
      "***\n",
      "\n",
      "**\n",
      "\n",
      "*\n",
      "\n"
     ]
    }
   ],
   "source": [
    "# creating lists best suited to form the pattern\n",
    "\n",
    "ascend =[x for x in range(1,6)]\n",
    "descend =[x for x in range(1,6)]\n",
    "\n",
    "# finalyzing range for the first for loop\n",
    "\n",
    "descend.pop()\n",
    "descend.reverse()\n",
    "row = ascend + descend\n",
    "\n",
    "# Logic for printing the required pattern\n",
    "\n",
    "for val in row:\n",
    "    vall = val + 1\n",
    "    freq = [x for x in range(1,vall)]\n",
    "    for elm in freq:\n",
    "        res = res + \"*\"\n",
    "    \n",
    "    print (\"{}\\n\".format(res))\n",
    "    res = \"\"\n",
    " \n",
    "        "
   ]
  },
  {
   "cell_type": "code",
   "execution_count": null,
   "metadata": {},
   "outputs": [],
   "source": []
  },
  {
   "cell_type": "code",
   "execution_count": null,
   "metadata": {},
   "outputs": [],
   "source": []
  }
 ],
 "metadata": {
  "kernelspec": {
   "display_name": "Python 3",
   "language": "python",
   "name": "python3"
  },
  "language_info": {
   "codemirror_mode": {
    "name": "ipython",
    "version": 3
   },
   "file_extension": ".py",
   "mimetype": "text/x-python",
   "name": "python",
   "nbconvert_exporter": "python",
   "pygments_lexer": "ipython3",
   "version": "3.6.4"
  }
 },
 "nbformat": 4,
 "nbformat_minor": 2
}
